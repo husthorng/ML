{
  "nbformat": 4,
  "nbformat_minor": 0,
  "metadata": {
    "colab": {
      "provenance": [],
      "authorship_tag": "ABX9TyNqRXCQEAZ5Ckv/yb/RCNiA",
      "include_colab_link": true
    },
    "kernelspec": {
      "name": "python3",
      "display_name": "Python 3"
    },
    "language_info": {
      "name": "python"
    }
  },
  "cells": [
    {
      "cell_type": "markdown",
      "metadata": {
        "id": "view-in-github",
        "colab_type": "text"
      },
      "source": [
        "<a href=\"https://colab.research.google.com/github/husthorng/ML/blob/main/Kmeans%E5%88%86%E7%BE%A4%E6%BC%94%E7%AE%97%E6%B3%95.ipynb\" target=\"_parent\"><img src=\"https://colab.research.google.com/assets/colab-badge.svg\" alt=\"Open In Colab\"/></a>"
      ]
    },
    {
      "cell_type": "code",
      "source": [
        "import numpy as np\n",
        "import pandas as pd\n",
        "import matplotlib.pyplot as plt\n",
        "from sklearn.datasets import make_blobs\n",
        "#centers = [[2, 3], [4, 5], [7, 9],[4, 6]]\n",
        "#centers = [[2, 3], [4, 5]]\n",
        "#data, labels = make_blobs(n_samples=1000,\n",
        "#    centers=np.array(centers),\n",
        "#    random_state=1)\n",
        "\n",
        "data,label = make_blobs(\n",
        "            n_features=4,\n",
        "            n_samples=2000,\n",
        "#            centers=[[25, 70, 15, 6],[28,80,28,5]],\n",
        "#            centers=[[25,28], [70,80], [15,28],[6,5]],\n",
        "\n",
        "\n",
        "#            center_box=[[15.0,30.0],[50.0,100.],[0.0,35],[8.0,5.8]],\n",
        "#            centers=[[22,75,28,6],],\n",
        "            center_box=[[15.0,50.0,0.0,5.0],\n",
        "                  [30.0, 100.,35,8.2]],\n",
        "            centers=3,\n",
        "            random_state=5,\n",
        "#            cluster_std=1,\n",
        "            shuffle=True,\n",
        "            )"
      ],
      "metadata": {
        "id": "XbMKqku6Y9PF"
      },
      "execution_count": null,
      "outputs": []
    },
    {
      "cell_type": "code",
      "source": [
        "data\n",
        "DF = pd.DataFrame(data)\n",
        "DF.to_csv(\"data.csv\")\n",
        "DF = pd.DataFrame(label)\n",
        "DF.to_csv(\"label.csv\")"
      ],
      "metadata": {
        "id": "30vpgrsCt0SR"
      },
      "execution_count": null,
      "outputs": []
    },
    {
      "cell_type": "code",
      "source": [
        "np.bincount(label)"
      ],
      "metadata": {
        "id": "cOORlF7gwNqs",
        "outputId": "1d862191-fc95-4c7b-e884-f9beaaa1fde8",
        "colab": {
          "base_uri": "https://localhost:8080/"
        }
      },
      "execution_count": null,
      "outputs": [
        {
          "output_type": "execute_result",
          "data": {
            "text/plain": [
              "array([500, 500, 500, 500])"
            ]
          },
          "metadata": {},
          "execution_count": 9
        }
      ]
    },
    {
      "cell_type": "markdown",
      "source": [
        "# [Kmeans分群演算法 與 Silhouette 輪廓分析](https://jimmy-huang.medium.com/kmeans%E5%88%86%E7%BE%A4%E6%BC%94%E7%AE%97%E6%B3%95-%E8%88%87-silhouette-%E8%BC%AA%E5%BB%93%E5%88%86%E6%9E%90-8be17e634589)"
      ],
      "metadata": {
        "id": "-zvHYluLRXz0"
      }
    },
    {
      "cell_type": "code",
      "source": [
        "import matplotlib.pyplot as plt\n",
        "from sklearn.datasets import make_blobs\n",
        "from sklearn.cluster import KMeans\n",
        "from sklearn.metrics import silhouette_score\n",
        "c1=['b','y','r','g','c','m']\n",
        "#X, y = make_blobs(n_samples=220,n_features=2,centers=5,cluster_std=1.5,center_box=(-10.0, 10.0),random_state=11)\n",
        "#1\n",
        "X, y = make_blobs(n_samples=820,n_features=2,centers=4,cluster_std=[1.5,2.1,1.2,2.5],center_box=(-20.0, 20.0),random_state=21) #1\n",
        "#2X, y = make_blobs(n_samples=800,n_features=2,centers=4,cluster_std=[0.8,2.3,1.8,1.5],center_box=(-20.0, 20.0),random_state=35) #2\n",
        "#3X, y = make_blobs(n_samples=820,n_features=2,centers=4,cluster_std=[2.8,2.1,2.8,1.5],center_box=(-20.0, 20.0),random_state=15) #3\n",
        "#4X, y = make_blobs(n_samples=820,n_features=2,centers=5,cluster_std=[2.8,2.1,1.8,1.5,1.2],center_box=(-20.0, 20.0),random_state=17) #4\n",
        "#5X, y = make_blobs(n_samples=820,n_features=2,centers=5,cluster_std=[2.1,1.2,1.2,1.6,2.1],center_box=(-20.0, 20.0),random_state=51) #5\n",
        "#6X, y = make_blobs(n_samples=820,n_features=2,centers=5,cluster_std=[2.1,2.2,2.2,2.6,2.1],center_box=(-20.0, 20.0),random_state=91) #6\n",
        "#7X, y = make_blobs(n_samples=820,n_features=2,centers=5,cluster_std=[2.1,2.2,1.6,2.6,1.1],center_box=(-20.0, 20.0),random_state=111) #7\n",
        "#8X, y = make_blobs(n_samples=820,n_features=2,centers=5,cluster_std=[2.1,2.5,2.6,2.6,2.6],center_box=(-20.0, 20.0),random_state=75) #8\n",
        "for k in range(0, len(X)):\n",
        "  plt.scatter((X[k,0]),(X[k,1]),c=c1[y[k]],s=15)"
      ],
      "metadata": {
        "colab": {
          "base_uri": "https://localhost:8080/",
          "height": 430
        },
        "id": "lKY_4XSYhPiQ",
        "outputId": "c92c6688-1078-4807-d356-be8fc8f7fc0e"
      },
      "execution_count": 18,
      "outputs": [
        {
          "output_type": "display_data",
          "data": {
            "text/plain": [
              "<Figure size 640x480 with 1 Axes>"
            ],
            "image/png": "[encoded data removed]"
          },
          "metadata": {}
        }
      ]
    },
    {
      "cell_type": "code",
      "source": [
        "X"
      ],
      "metadata": {
        "colab": {
          "base_uri": "https://localhost:8080/"
        },
        "id": "BG4V0nasYKvV",
        "outputId": "9fb29c08-5678-46e6-bf88-035c7b84fdcc"
      },
      "execution_count": 19,
      "outputs": [
        {
          "output_type": "execute_result",
          "data": {
            "text/plain": [
              "array([[  9.43898096, -18.6820914 ],\n",
              "       [-10.89228516, -16.31568651],\n",
              "       [-10.15122317,   3.99573026],\n",
              "       ...,\n",
              "       [ -5.67171159,   8.50142222],\n",
              "       [-19.36140356,  -9.83192938],\n",
              "       [-19.40886478,  -7.15807171]])"
            ]
          },
          "metadata": {},
          "execution_count": 19
        }
      ]
    },
    {
      "cell_type": "code",
      "source": [
        "import pandas as pd\n",
        "DF = pd.DataFrame(X)\n",
        "DF.to_csv(\"8.csv\")\n",
        "DF = pd.DataFrame(y)\n",
        "DF.to_csv(\"y.csv\")"
      ],
      "metadata": {
        "id": "w9GosQLvnXuH"
      },
      "execution_count": 3,
      "outputs": []
    },
    {
      "cell_type": "code",
      "source": [
        "\n",
        "import pandas as pd\n",
        "df= pd.read_csv('https://raw.githubusercontent.com/husthorng/ML/main/1.csv', sep=',', header=None)\n",
        "#X=df.values[1:,1:]\n",
        "from sklearn import cluster, datasets, metrics\n",
        "import matplotlib.pyplot as plt\n",
        "# 迴圈\n",
        "silhouette_avgs = []\n",
        "ks = range(2, 11)\n",
        "for k in ks:\n",
        "    kmeans_fit = cluster.KMeans(n_clusters = k).fit(X)\n",
        "    cluster_labels = kmeans_fit.labels_\n",
        "    silhouette_avg = metrics.silhouette_score(X, cluster_labels)\n",
        "    silhouette_avgs.append(silhouette_avg)\n",
        "\n",
        "# 作圖並印出 k = 2 到 10 的績效\n",
        "plt.bar(ks, silhouette_avgs)\n",
        "plt.show()\n",
        "print(silhouette_avgs)\n"
      ],
      "metadata": {
        "colab": {
          "base_uri": "https://localhost:8080/",
          "height": 760
        },
        "id": "zw1ZFvd3iCCE",
        "outputId": "6c074e87-6871-4e95-a4e1-b32db7588b14"
      },
      "execution_count": 20,
      "outputs": [
        {
          "output_type": "stream",
          "name": "stderr",
          "text": [
            "/usr/local/lib/python3.10/dist-packages/sklearn/cluster/_kmeans.py:870: FutureWarning: The default value of `n_init` will change from 10 to 'auto' in 1.4. Set the value of `n_init` explicitly to suppress the warning\n",
            "  warnings.warn(\n",
            "/usr/local/lib/python3.10/dist-packages/sklearn/cluster/_kmeans.py:870: FutureWarning: The default value of `n_init` will change from 10 to 'auto' in 1.4. Set the value of `n_init` explicitly to suppress the warning\n",
            "  warnings.warn(\n",
            "/usr/local/lib/python3.10/dist-packages/sklearn/cluster/_kmeans.py:870: FutureWarning: The default value of `n_init` will change from 10 to 'auto' in 1.4. Set the value of `n_init` explicitly to suppress the warning\n",
            "  warnings.warn(\n",
            "/usr/local/lib/python3.10/dist-packages/sklearn/cluster/_kmeans.py:870: FutureWarning: The default value of `n_init` will change from 10 to 'auto' in 1.4. Set the value of `n_init` explicitly to suppress the warning\n",
            "  warnings.warn(\n",
            "/usr/local/lib/python3.10/dist-packages/sklearn/cluster/_kmeans.py:870: FutureWarning: The default value of `n_init` will change from 10 to 'auto' in 1.4. Set the value of `n_init` explicitly to suppress the warning\n",
            "  warnings.warn(\n",
            "/usr/local/lib/python3.10/dist-packages/sklearn/cluster/_kmeans.py:870: FutureWarning: The default value of `n_init` will change from 10 to 'auto' in 1.4. Set the value of `n_init` explicitly to suppress the warning\n",
            "  warnings.warn(\n",
            "/usr/local/lib/python3.10/dist-packages/sklearn/cluster/_kmeans.py:870: FutureWarning: The default value of `n_init` will change from 10 to 'auto' in 1.4. Set the value of `n_init` explicitly to suppress the warning\n",
            "  warnings.warn(\n",
            "/usr/local/lib/python3.10/dist-packages/sklearn/cluster/_kmeans.py:870: FutureWarning: The default value of `n_init` will change from 10 to 'auto' in 1.4. Set the value of `n_init` explicitly to suppress the warning\n",
            "  warnings.warn(\n",
            "/usr/local/lib/python3.10/dist-packages/sklearn/cluster/_kmeans.py:870: FutureWarning: The default value of `n_init` will change from 10 to 'auto' in 1.4. Set the value of `n_init` explicitly to suppress the warning\n",
            "  warnings.warn(\n"
          ]
        },
        {
          "output_type": "display_data",
          "data": {
            "text/plain": [
              "<Figure size 640x480 with 1 Axes>"
            ],
            "image/png": "[encoded data removed]"
          },
          "metadata": {}
        },
        {
          "output_type": "stream",
          "name": "stdout",
          "text": [
            "[0.5884670083619671, 0.728260210681319, 0.7900368669170141, 0.6898149573654492, 0.564894303699947, 0.5632729592535954, 0.5715238172757963, 0.46307860310652144, 0.45413659705891696]\n"
          ]
        }
      ]
    },
    {
      "cell_type": "code",
      "source": [
        "# KMeans 演算法\n",
        "kmeans_fit = cluster.KMeans(n_clusters = 4).fit(X)\n",
        "\n",
        "# 印出分群結果\n",
        "y = kmeans_fit.labels_\n",
        "print(\"分群結果：\")\n",
        "print(y)\n",
        "print(\"---------------------------\")"
      ],
      "metadata": {
        "colab": {
          "base_uri": "https://localhost:8080/"
        },
        "id": "dy5d2fTEjOx_",
        "outputId": "f8854d52-a358-41a0-cae9-9a084eb05067"
      },
      "execution_count": 21,
      "outputs": [
        {
          "output_type": "stream",
          "name": "stdout",
          "text": [
            "分群結果：\n",
            "[2 0 1 3 1 3 2 0 1 2 3 2 3 2 0 2 1 1 0 1 0 1 3 0 3 2 0 0 0 1 0 3 2 1 3 0 0\n",
            " 0 2 1 2 3 3 3 1 0 3 2 1 3 3 3 1 2 0 2 1 1 2 2 2 1 3 3 3 3 2 3 0 2 1 1 2 3\n",
            " 3 2 1 2 3 3 0 0 3 1 2 0 3 0 0 1 2 0 0 0 3 2 1 3 0 0 2 3 1 0 3 2 0 3 0 2 0\n",
            " 0 2 2 2 0 2 1 3 2 0 2 1 1 2 1 2 2 2 0 0 1 1 1 1 1 1 3 0 2 3 1 1 0 0 2 1 0\n",
            " 0 2 0 0 0 0 3 0 2 3 1 0 0 2 1 0 0 3 2 2 1 3 3 2 0 1 0 2 1 3 0 1 0 1 2 2 0\n",
            " 1 0 2 1 0 1 0 0 1 0 2 0 1 2 3 2 1 0 2 1 3 1 3 2 1 3 3 1 0 3 0 3 2 2 2 2 3\n",
            " 1 1 3 0 3 2 2 3 0 3 3 1 0 3 2 2 0 2 2 0 0 2 1 3 2 0 0 0 0 0 2 0 3 2 0 3 2\n",
            " 1 3 3 0 2 2 0 1 1 3 1 2 3 3 3 1 1 1 3 0 0 1 0 1 0 2 2 2 0 2 3 2 0 3 0 0 3\n",
            " 3 1 1 2 0 3 3 2 3 0 1 3 0 2 2 1 3 1 3 3 0 3 3 1 0 1 2 3 1 2 2 2 2 2 1 3 2\n",
            " 2 1 3 3 1 3 2 0 2 2 2 2 1 1 2 3 3 0 3 0 2 1 0 3 0 0 2 1 0 1 0 0 3 3 3 3 3\n",
            " 0 2 0 3 2 3 0 1 0 1 3 0 1 0 1 2 2 2 2 0 3 3 1 2 3 1 2 3 3 0 1 3 0 3 2 0 0\n",
            " 1 2 1 1 1 1 1 2 0 3 3 1 3 1 1 1 3 3 3 2 0 1 0 0 3 2 1 3 1 1 1 0 2 0 0 3 2\n",
            " 0 0 2 2 1 1 2 2 0 2 3 1 1 3 0 3 2 2 2 3 0 2 1 0 2 3 2 3 3 1 3 1 0 0 2 0 1\n",
            " 1 1 2 2 2 1 3 1 0 0 2 0 2 2 1 3 1 0 3 0 2 2 3 0 1 2 3 0 1 3 2 1 1 2 1 3 2\n",
            " 1 3 0 0 1 3 2 3 0 2 2 2 2 2 0 3 0 0 0 2 1 2 3 0 2 0 3 1 1 1 3 2 2 1 2 0 0\n",
            " 2 1 3 0 3 2 0 3 2 0 1 3 0 1 3 1 1 0 3 0 2 1 2 1 1 3 1 3 1 2 1 1 0 0 3 3 3\n",
            " 3 2 2 3 3 1 3 1 2 1 0 2 1 2 0 3 2 3 3 3 3 3 3 3 2 1 3 2 3 1 3 3 1 2 2 0 1\n",
            " 0 0 3 3 2 0 0 1 1 1 2 0 0 2 0 1 1 0 2 1 1 1 0 1 2 3 3 1 3 0 1 1 3 3 3 2 2\n",
            " 3 0 0 1 0 0 0 3 3 1 0 2 3 1 3 0 3 3 1 1 1 1 3 0 3 3 1 2 3 2 3 1 0 0 2 2 2\n",
            " 0 2 1 3 1 1 0 1 3 3 0 2 1 0 2 0 0 0 1 2 1 0 3 3 1 3 0 0 0 1 0 1 0 1 3 0 2\n",
            " 2 3 1 3 2 0 3 1 2 1 3 1 1 1 2 1 1 2 2 0 0 2 3 3 2 3 1 3 0 0 0 3 1 2 2 2 0\n",
            " 1 1 3 2 2 1 1 1 0 2 2 2 0 2 2 1 1 0 2 0 3 3 2 2 1 1 3 0 3 1 0 0 1 3 0 1 3\n",
            " 3 2 2 1 3 3]\n",
            "---------------------------\n"
          ]
        },
        {
          "output_type": "stream",
          "name": "stderr",
          "text": [
            "/usr/local/lib/python3.10/dist-packages/sklearn/cluster/_kmeans.py:870: FutureWarning: The default value of `n_init` will change from 10 to 'auto' in 1.4. Set the value of `n_init` explicitly to suppress the warning\n",
            "  warnings.warn(\n"
          ]
        }
      ]
    },
    {
      "cell_type": "code",
      "source": [
        "import matplotlib.pyplot as plt\n",
        "\n",
        "c1=['b','y','r','g','c','m']\n",
        "\n",
        "for k in range(0, len(X)):\n",
        "  plt.scatter((X[k,0]),(X[k,1]),c=c1[y[k]],s=15)"
      ],
      "metadata": {
        "colab": {
          "base_uri": "https://localhost:8080/",
          "height": 430
        },
        "id": "bgcydK-ekXVz",
        "outputId": "cadbcff3-ec93-4c57-b83a-e5b53709cd6d"
      },
      "execution_count": 22,
      "outputs": [
        {
          "output_type": "display_data",
          "data": {
            "text/plain": [
              "<Figure size 640x480 with 1 Axes>"
            ],
            "image/png": "[encoded data removed]"
          },
          "metadata": {}
        }
      ]
    },
    {
      "cell_type": "code",
      "source": [
        "\n",
        "kmeans_fit.predict([[0.801146943,\t2.264124698],[-7.583903734,\t-9.718119289],[-0.056873187,\t-0.427954747],[-8.760847685,\t-7.64407971]]) #根据已经建模好的数据，对新的数据进行预测"
      ],
      "metadata": {
        "colab": {
          "base_uri": "https://localhost:8080/"
        },
        "id": "_Ab8xToXlfmx",
        "outputId": "788b89f2-8c07-4ad0-c90b-5193f55482ec"
      },
      "execution_count": 17,
      "outputs": [
        {
          "output_type": "execute_result",
          "data": {
            "text/plain": [
              "array([3, 2, 3, 2], dtype=int32)"
            ]
          },
          "metadata": {},
          "execution_count": 17
        }
      ]
    },
    {
      "cell_type": "code",
      "source": [
        "import numpy as np\n",
        "chkres=[]\n",
        "for k in range(0, len(X)):\n",
        "  chkre=kmeans_fit.predict([X[k]])\n",
        "  chkres=np.append(chkres,chkre[0])\n",
        "\n"
      ],
      "metadata": {
        "id": "gfAj_UV4bOoE"
      },
      "execution_count": null,
      "outputs": []
    },
    {
      "cell_type": "code",
      "source": [
        "chkres"
      ],
      "metadata": {
        "colab": {
          "base_uri": "https://localhost:8080/"
        },
        "id": "onY2mKdBcFvn",
        "outputId": "3c597c6b-a1f6-48e7-83df-4dc078aa8302"
      },
      "execution_count": null,
      "outputs": [
        {
          "output_type": "execute_result",
          "data": {
            "text/plain": [
              "array([1., 1., 1., 4., 3., 4., 2., 3., 3., 1., 2., 1., 2., 2., 4., 2., 2.,\n",
              "       2., 3., 1., 3., 1., 0., 0., 3., 0., 4., 4., 0., 2., 1., 4., 2., 3.,\n",
              "       0., 0., 1., 3., 4., 4., 3., 4., 3., 0., 1., 2., 0., 1., 1., 2., 4.,\n",
              "       1., 2., 0., 1., 0., 1., 0., 4., 1., 4., 4., 0., 0., 2., 4., 2., 0.,\n",
              "       1., 2., 2., 2., 4., 0., 0., 3., 2., 3., 4., 2., 1., 1., 0., 0., 0.,\n",
              "       2., 4., 2., 3., 4., 3., 4., 1., 4., 3., 4., 1., 4., 0., 0., 3., 0.,\n",
              "       3., 1., 1., 2., 3., 3., 0., 1., 0., 1., 1., 4., 1., 0., 4., 4., 1.,\n",
              "       3., 3., 0., 0., 2., 3., 2., 1., 4., 3., 1., 4., 1., 1., 2., 1., 0.,\n",
              "       4., 2., 0., 1., 3., 2., 3., 4., 3., 3., 0., 0., 1., 4., 0., 3., 3.,\n",
              "       4., 1., 0., 0., 1., 4., 0., 4., 2., 4., 2., 0., 3., 2., 3., 0., 0.,\n",
              "       0., 0., 4., 1., 4., 4., 4., 2., 2., 2., 3., 2., 1., 0., 4., 2., 1.,\n",
              "       1., 2., 0., 0., 4., 3., 4., 0., 2., 2., 1., 3., 1., 0., 0., 1., 0.,\n",
              "       4., 0., 4., 2., 2., 0., 2., 4., 0., 3., 2., 0., 3., 0., 3., 4., 1.,\n",
              "       2., 0., 2., 1., 3., 1., 0., 3., 1., 3., 3., 3., 0., 0., 2., 4., 4.,\n",
              "       4., 4., 3., 3., 2., 0., 1., 4., 2., 3., 3., 1., 3., 0., 1., 3., 1.,\n",
              "       0., 3., 2., 3., 1., 1., 4., 3., 2., 1., 0., 3., 3., 2., 2., 2., 0.,\n",
              "       3., 2., 4., 1., 2., 1., 1., 0., 4., 2., 1., 4., 1., 4., 4., 1., 3.,\n",
              "       3., 2., 0., 0., 2., 3., 3., 2., 4., 3., 1., 3., 0., 2., 0., 1., 4.,\n",
              "       3., 3., 3., 1., 1., 3., 3., 0., 0., 2., 0., 4., 3., 2., 2., 2., 3.,\n",
              "       0., 2., 4., 1., 3., 0., 1., 0., 3., 3., 0., 1., 1., 4., 1., 3., 4.,\n",
              "       0., 2., 4., 3., 2., 1., 4., 2., 2., 0., 0., 4., 2., 3., 2., 0., 1.,\n",
              "       1., 3., 4., 0., 1., 0., 4., 3., 2., 4., 2., 2., 4., 2., 2., 3., 4.,\n",
              "       0., 2., 2., 1., 0., 0., 4., 4., 4., 4., 0., 1., 2., 3., 2., 1., 1.,\n",
              "       0., 1., 2., 4., 4., 1., 2., 3., 3., 2., 4., 3., 4., 3., 2., 2., 3.,\n",
              "       3., 0., 4., 4., 0., 1., 0., 2., 1., 3., 0., 0., 2., 2., 0., 1., 0.,\n",
              "       2., 4., 2., 1., 0., 0., 4., 0., 0., 4., 1., 1., 2., 4., 4., 1., 4.,\n",
              "       2., 2., 2., 3., 4., 0., 0., 1., 4., 0., 1., 4., 4., 4., 4., 0., 3.,\n",
              "       2., 3., 1., 1., 3., 3., 0., 0., 4., 2., 0., 4., 4., 0., 3., 4., 4.,\n",
              "       1., 0., 2., 4., 3., 0., 3., 2., 4., 4., 3., 1., 4., 4., 4., 0., 1.,\n",
              "       1., 1., 4., 3., 1., 2., 4., 0., 2., 1., 3., 1., 0., 4., 0., 4., 4.,\n",
              "       0., 1., 1., 2., 1., 1., 3., 3., 1., 2., 0., 1., 3., 2., 4., 4., 3.,\n",
              "       4., 0., 4., 4., 0., 0., 0., 2., 4., 2., 2., 2., 3., 0., 1., 0., 1.,\n",
              "       4., 3., 4., 1., 3., 3., 3., 2., 0., 3., 0., 2., 0., 4., 4., 3., 2.,\n",
              "       3., 2., 2., 1., 2., 2., 3., 2., 3., 2., 2., 1., 1., 2., 2., 1., 1.,\n",
              "       2., 0., 2., 4., 1., 1., 0., 0., 2., 2., 0., 0., 3., 0., 3., 1., 0.,\n",
              "       2., 2., 1., 0., 1., 3., 1., 3., 4., 0., 0., 3., 2., 3., 3., 1., 3.,\n",
              "       2., 2., 0., 1., 1., 3., 1., 3., 4., 3., 4., 0., 0., 0., 3., 4., 2.,\n",
              "       4., 0., 4., 4., 1., 4., 1., 1., 4., 4., 1., 3., 1., 0., 1., 3., 3.,\n",
              "       0., 1., 2., 4., 2., 2., 2., 3., 4., 1., 0., 1., 0., 3., 1., 3., 3.,\n",
              "       2., 0., 4., 3., 3., 3., 4., 0., 3., 2., 3., 3., 3., 2., 4., 1., 1.,\n",
              "       2., 2., 1., 2., 0., 0., 4., 3., 4., 2., 1., 1., 1., 4., 1., 1., 3.,\n",
              "       0., 2., 3., 0., 1., 3., 0., 0., 3., 2., 3., 1., 3., 1., 4., 1., 3.,\n",
              "       2., 0., 1., 0., 2., 0., 3., 2., 4., 3., 1., 3., 0., 4., 2., 0., 2.,\n",
              "       1., 3., 2., 3., 4., 1., 0., 4., 4., 3., 2., 4., 1., 3., 3., 2., 3.,\n",
              "       4., 4., 1., 2., 1., 1., 3., 1., 3., 4., 3., 4., 1., 4., 1., 1., 2.,\n",
              "       0., 3., 4., 4., 0., 2., 1., 1., 4., 4., 3., 0., 2., 2., 0., 4., 2.,\n",
              "       0., 2., 3., 4., 1., 4., 4., 0., 2., 0., 3., 4., 4., 4., 3., 1., 0.,\n",
              "       2., 1., 2., 3., 2., 1., 2., 1., 0., 0., 4., 3., 4., 3., 2., 2., 2.,\n",
              "       4., 4., 3., 0.])"
            ]
          },
          "metadata": {},
          "execution_count": 65
        }
      ]
    },
    {
      "cell_type": "code",
      "source": [
        "import pandas as pd\n",
        "DF = pd.DataFrame(chkres)\n",
        "DF.to_csv(\"chkres.csv\")\n"
      ],
      "metadata": {
        "id": "1d_-1l5y2aa1"
      },
      "execution_count": null,
      "outputs": []
    },
    {
      "cell_type": "markdown",
      "source": [
        "# [sklearn.cluster.KMeans](https://scikit-learn.org/stable/modules/generated/sklearn.cluster.KMeans.html)"
      ],
      "metadata": {
        "id": "O15lBr4xVgy0"
      }
    }
  ]
}