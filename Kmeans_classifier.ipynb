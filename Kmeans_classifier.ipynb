{
  "nbformat": 4,
  "nbformat_minor": 0,
  "metadata": {
    "colab": {
      "provenance": [],
      "authorship_tag": "ABX9TyOAZ8vLsbqE0uKts4S+qWyF",
      "include_colab_link": true
    },
    "kernelspec": {
      "name": "python3",
      "display_name": "Python 3"
    },
    "language_info": {
      "name": "python"
    }
  },
  "cells": [
    {
      "cell_type": "markdown",
      "metadata": {
        "id": "view-in-github",
        "colab_type": "text"
      },
      "source": [
        "<a href=\"https://colab.research.google.com/github/husthorng/ML/blob/main/Kmeans_classifier.ipynb\" target=\"_parent\"><img src=\"https://colab.research.google.com/assets/colab-badge.svg\" alt=\"Open In Colab\"/></a>"
      ]
    },
    {
      "cell_type": "markdown",
      "source": [
        "# [Kmeans分群演算法 與 Silhouette 輪廓分析](https://jimmy-huang.medium.com/kmeans%E5%88%86%E7%BE%A4%E6%BC%94%E7%AE%97%E6%B3%95-%E8%88%87-silhouette-%E8%BC%AA%E5%BB%93%E5%88%86%E6%9E%90-8be17e634589)"
      ],
      "metadata": {
        "id": "-zvHYluLRXz0"
      }
    },
    {
      "cell_type": "code",
      "source": [
        "\n",
        "import pandas as pd\n",
        "df= pd.read_csv('https://raw.githubusercontent.com/husthorng/ML/main/X.csv', sep=',', header=None)\n",
        "X=df.values[1:,1:]\n",
        "from sklearn import cluster, datasets, metrics\n",
        "import matplotlib.pyplot as plt\n",
        "# 迴圈\n",
        "silhouette_avgs = []\n",
        "ks = range(2, 11)\n",
        "for k in ks:\n",
        "    kmeans_fit = cluster.KMeans(n_clusters = k).fit(X)\n",
        "    cluster_labels = kmeans_fit.labels_\n",
        "    silhouette_avg = metrics.silhouette_score(X, cluster_labels)\n",
        "    silhouette_avgs.append(silhouette_avg)\n",
        "\n",
        "# k = 2 到 10\n",
        "plt.bar(ks, silhouette_avgs)\n",
        "plt.show()\n",
        "print(silhouette_avgs)\n"
      ],
      "metadata": {
        "colab": {
          "base_uri": "https://localhost:8080/",
          "height": 760
        },
        "id": "zw1ZFvd3iCCE",
        "outputId": "46e348b8-d4c5-4bed-c985-e279bdea5414"
      },
      "execution_count": 8,
      "outputs": [
        {
          "output_type": "stream",
          "name": "stderr",
          "text": [
            "/usr/local/lib/python3.10/dist-packages/sklearn/cluster/_kmeans.py:870: FutureWarning: The default value of `n_init` will change from 10 to 'auto' in 1.4. Set the value of `n_init` explicitly to suppress the warning\n",
            "  warnings.warn(\n",
            "/usr/local/lib/python3.10/dist-packages/sklearn/cluster/_kmeans.py:870: FutureWarning: The default value of `n_init` will change from 10 to 'auto' in 1.4. Set the value of `n_init` explicitly to suppress the warning\n",
            "  warnings.warn(\n",
            "/usr/local/lib/python3.10/dist-packages/sklearn/cluster/_kmeans.py:870: FutureWarning: The default value of `n_init` will change from 10 to 'auto' in 1.4. Set the value of `n_init` explicitly to suppress the warning\n",
            "  warnings.warn(\n",
            "/usr/local/lib/python3.10/dist-packages/sklearn/cluster/_kmeans.py:870: FutureWarning: The default value of `n_init` will change from 10 to 'auto' in 1.4. Set the value of `n_init` explicitly to suppress the warning\n",
            "  warnings.warn(\n",
            "/usr/local/lib/python3.10/dist-packages/sklearn/cluster/_kmeans.py:870: FutureWarning: The default value of `n_init` will change from 10 to 'auto' in 1.4. Set the value of `n_init` explicitly to suppress the warning\n",
            "  warnings.warn(\n",
            "/usr/local/lib/python3.10/dist-packages/sklearn/cluster/_kmeans.py:870: FutureWarning: The default value of `n_init` will change from 10 to 'auto' in 1.4. Set the value of `n_init` explicitly to suppress the warning\n",
            "  warnings.warn(\n",
            "/usr/local/lib/python3.10/dist-packages/sklearn/cluster/_kmeans.py:870: FutureWarning: The default value of `n_init` will change from 10 to 'auto' in 1.4. Set the value of `n_init` explicitly to suppress the warning\n",
            "  warnings.warn(\n",
            "/usr/local/lib/python3.10/dist-packages/sklearn/cluster/_kmeans.py:870: FutureWarning: The default value of `n_init` will change from 10 to 'auto' in 1.4. Set the value of `n_init` explicitly to suppress the warning\n",
            "  warnings.warn(\n",
            "/usr/local/lib/python3.10/dist-packages/sklearn/cluster/_kmeans.py:870: FutureWarning: The default value of `n_init` will change from 10 to 'auto' in 1.4. Set the value of `n_init` explicitly to suppress the warning\n",
            "  warnings.warn(\n"
          ]
        },
        {
          "output_type": "display_data",
          "data": {
            "text/plain": [
              "<Figure size 640x480 with 1 Axes>"
            ],
            "image/png": "[encoded data removed]"
          },
          "metadata": {}
        },
        {
          "output_type": "stream",
          "name": "stdout",
          "text": [
            "[0.48668697018413964, 0.5366565664808917, 0.6455641861487446, 0.6328858682437848, 0.5813297574323257, 0.4885870114835516, 0.4783725451685303, 0.36033422378805907, 0.4261473483298592]\n"
          ]
        }
      ]
    },
    {
      "cell_type": "code",
      "source": [
        "# KMeans 演算法\n",
        "kmeans_fit = cluster.KMeans(n_clusters = 5).fit(X)\n",
        "\n",
        "# 印出分群結果\n",
        "y = kmeans_fit.labels_\n",
        "print(\"分群結果：\")\n",
        "print(y)\n",
        "print(\"---------------------------\")"
      ],
      "metadata": {
        "colab": {
          "base_uri": "https://localhost:8080/"
        },
        "id": "dy5d2fTEjOx_",
        "outputId": "ae1f8a1e-bf98-479a-a768-49c8dbbb1593"
      },
      "execution_count": 9,
      "outputs": [
        {
          "output_type": "stream",
          "name": "stdout",
          "text": [
            "分群結果：\n",
            "[2 0 2 0 1 0 1 4 1 1 4 2 0 4 0 0 2 3 2 4 2 3 0 0 0 1 4 1 1 3 1 4 1 1 0 1 0\n",
            " 0 1 3 3 3 2 3 1 2 2 0 4 0 2 1 0 1 1 0 0 1 3 3 4 4 3 0 4 2 1 3 4 1 1 4 3 3\n",
            " 4 4 4 2 3 0 3 3 0 0 2 4 1 2 2 1 4 1 2 2 3 4 0 3 1 4 1 1 1 4 1 3 4 4 0 3 3\n",
            " 1 3 2 2 0 2 4 4 4 0 2 3 1 0 4 0 1 4 3 3 1 3 1 2 4 1 4 2 2 3 2 1 0 1 4 2 3\n",
            " 2 2 1 0 4 3 4 3 4 0 3 2 0 3 3 0 0 3 4 2 3 2 0 0 4 0 1 4 3 1 1 3 4 4 1 4 0\n",
            " 2 2 2 0 3 3 2 3 1 1 0 2 0 0 3 4 4 4 2 2 2 3 1 2 3 0 0 2 2 4 2 3 4 0 2]\n",
            "---------------------------\n"
          ]
        },
        {
          "output_type": "stream",
          "name": "stderr",
          "text": [
            "/usr/local/lib/python3.10/dist-packages/sklearn/cluster/_kmeans.py:870: FutureWarning: The default value of `n_init` will change from 10 to 'auto' in 1.4. Set the value of `n_init` explicitly to suppress the warning\n",
            "  warnings.warn(\n"
          ]
        }
      ]
    },
    {
      "cell_type": "code",
      "source": [
        "import matplotlib.pyplot as plt\n",
        "\n",
        "c1=['b','y','r','g','c','m']\n",
        "\n",
        "for k in range(0, len(X)):\n",
        "  plt.scatter((X[k,0]),(X[k,1]),c=c1[y[k]],s=15)"
      ],
      "metadata": {
        "colab": {
          "base_uri": "https://localhost:8080/",
          "height": 430
        },
        "id": "bgcydK-ekXVz",
        "outputId": "b3edc06b-f3b5-4e66-9b51-2acf17c3f6e3"
      },
      "execution_count": 5,
      "outputs": [
        {
          "output_type": "display_data",
          "data": {
            "text/plain": [
              "<Figure size 640x480 with 1 Axes>"
            ],
            "image/png": "[encoded data removed]"
          },
          "metadata": {}
        }
      ]
    },
    {
      "cell_type": "code",
      "source": [
        "\n",
        "kmeans_fit.predict([[0.801146943,\t2.264124698],[-7.583903734,\t-9.718119289],[-0.056873187,\t-0.427954747],[-8.760847685,\t-7.64407971]]) #根据已经建模好的数据，对新的数据进行预测"
      ],
      "metadata": {
        "colab": {
          "base_uri": "https://localhost:8080/"
        },
        "id": "_Ab8xToXlfmx",
        "outputId": "25fec161-c29b-4c6a-a03a-16ac651c96b6"
      },
      "execution_count": 10,
      "outputs": [
        {
          "output_type": "execute_result",
          "data": {
            "text/plain": [
              "array([0, 1, 4, 1], dtype=int32)"
            ]
          },
          "metadata": {},
          "execution_count": 10
        }
      ]
    }
  ]
}