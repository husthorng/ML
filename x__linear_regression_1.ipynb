{
  "nbformat": 4,
  "nbformat_minor": 0,
  "metadata": {
    "colab": {
      "provenance": [],
      "authorship_tag": "ABX9TyOfjWQl2r1CzJXiYvFaJTyn",
      "include_colab_link": true
    },
    "kernelspec": {
      "name": "python3",
      "display_name": "Python 3"
    },
    "language_info": {
      "name": "python"
    }
  },
  "cells": [
    {
      "cell_type": "markdown",
      "metadata": {
        "id": "view-in-github",
        "colab_type": "text"
      },
      "source": [
        "<a href=\"https://colab.research.google.com/github/husthorng/ML/blob/main/x__linear_regression_1.ipynb\" target=\"_parent\"><img src=\"https://colab.research.google.com/assets/colab-badge.svg\" alt=\"Open In Colab\"/></a>"
      ]
    },
    {
      "cell_type": "code",
      "source": [
        "import pandas as pd\n",
        "df= pd.read_csv('https://raw.githubusercontent.com/husthorng/ML/main/X.csv', sep=',', header=None)\n",
        "X=df.values[1:,1:]\n",
        "#print(X)"
      ],
      "metadata": {
        "id": "WEpmF3pzYcWg"
      },
      "execution_count": 1,
      "outputs": []
    },
    {
      "cell_type": "code",
      "source": [
        "from sklearn import cluster, datasets, metrics\n",
        "import matplotlib.pyplot as plt\n",
        "# 迴圈\n",
        "silhouette_avgs = []\n",
        "ks = range(2, 11)\n",
        "for k in ks:\n",
        "    kmeans_fit = cluster.KMeans(n_clusters = k).fit(X)\n",
        "    cluster_labels = kmeans_fit.labels_\n",
        "    silhouette_avg = metrics.silhouette_score(X, cluster_labels)\n",
        "    silhouette_avgs.append(silhouette_avg)\n",
        "\n",
        "# 作圖並印出 k = 2 到 10 的績效\n",
        "plt.bar(ks, silhouette_avgs)\n",
        "plt.show()\n",
        "print(silhouette_avgs)\n"
      ],
      "metadata": {
        "colab": {
          "base_uri": "https://localhost:8080/",
          "height": 760
        },
        "id": "bj_KDxk3XU5k",
        "outputId": "dfd443c6-726d-49cd-c04d-c8be00f3015d"
      },
      "execution_count": 2,
      "outputs": [
        {
          "output_type": "stream",
          "name": "stderr",
          "text": [
            "/usr/local/lib/python3.10/dist-packages/sklearn/cluster/_kmeans.py:870: FutureWarning: The default value of `n_init` will change from 10 to 'auto' in 1.4. Set the value of `n_init` explicitly to suppress the warning\n",
            "  warnings.warn(\n",
            "/usr/local/lib/python3.10/dist-packages/sklearn/cluster/_kmeans.py:870: FutureWarning: The default value of `n_init` will change from 10 to 'auto' in 1.4. Set the value of `n_init` explicitly to suppress the warning\n",
            "  warnings.warn(\n",
            "/usr/local/lib/python3.10/dist-packages/sklearn/cluster/_kmeans.py:870: FutureWarning: The default value of `n_init` will change from 10 to 'auto' in 1.4. Set the value of `n_init` explicitly to suppress the warning\n",
            "  warnings.warn(\n",
            "/usr/local/lib/python3.10/dist-packages/sklearn/cluster/_kmeans.py:870: FutureWarning: The default value of `n_init` will change from 10 to 'auto' in 1.4. Set the value of `n_init` explicitly to suppress the warning\n",
            "  warnings.warn(\n",
            "/usr/local/lib/python3.10/dist-packages/sklearn/cluster/_kmeans.py:870: FutureWarning: The default value of `n_init` will change from 10 to 'auto' in 1.4. Set the value of `n_init` explicitly to suppress the warning\n",
            "  warnings.warn(\n",
            "/usr/local/lib/python3.10/dist-packages/sklearn/cluster/_kmeans.py:870: FutureWarning: The default value of `n_init` will change from 10 to 'auto' in 1.4. Set the value of `n_init` explicitly to suppress the warning\n",
            "  warnings.warn(\n",
            "/usr/local/lib/python3.10/dist-packages/sklearn/cluster/_kmeans.py:870: FutureWarning: The default value of `n_init` will change from 10 to 'auto' in 1.4. Set the value of `n_init` explicitly to suppress the warning\n",
            "  warnings.warn(\n",
            "/usr/local/lib/python3.10/dist-packages/sklearn/cluster/_kmeans.py:870: FutureWarning: The default value of `n_init` will change from 10 to 'auto' in 1.4. Set the value of `n_init` explicitly to suppress the warning\n",
            "  warnings.warn(\n",
            "/usr/local/lib/python3.10/dist-packages/sklearn/cluster/_kmeans.py:870: FutureWarning: The default value of `n_init` will change from 10 to 'auto' in 1.4. Set the value of `n_init` explicitly to suppress the warning\n",
            "  warnings.warn(\n"
          ]
        },
        {
          "output_type": "display_data",
          "data": {
            "text/plain": [
              "<Figure size 640x480 with 1 Axes>"
            ],
            "image/png": "[encoded data removed]"
          },
          "metadata": {}
        },
        {
          "output_type": "stream",
          "name": "stdout",
          "text": [
            "[0.48668697018413964, 0.5366565664808917, 0.6455641861487446, 0.6328858682437848, 0.5813297574323257, 0.5181658926844246, 0.42747337706660976, 0.4560474718461178, 0.34001166276523587]\n"
          ]
        }
      ]
    },
    {
      "cell_type": "code",
      "source": [
        "kmeans_fit = cluster.KMeans(n_clusters = 5).fit(X)\n",
        "\n",
        "# 印出分群結果\n",
        "y = kmeans_fit.labels_\n",
        "print(\"分群結果：\")\n",
        "print(y)\n",
        "print(\"---------------------------\")"
      ],
      "metadata": {
        "colab": {
          "base_uri": "https://localhost:8080/"
        },
        "id": "Bjxahu1yXjSp",
        "outputId": "fa29b853-bc90-45fd-b58f-f5ec5a1358b9"
      },
      "execution_count": 3,
      "outputs": [
        {
          "output_type": "stream",
          "name": "stderr",
          "text": [
            "/usr/local/lib/python3.10/dist-packages/sklearn/cluster/_kmeans.py:870: FutureWarning: The default value of `n_init` will change from 10 to 'auto' in 1.4. Set the value of `n_init` explicitly to suppress the warning\n",
            "  warnings.warn(\n"
          ]
        },
        {
          "output_type": "stream",
          "name": "stdout",
          "text": [
            "分群結果：\n",
            "[0 4 0 4 3 4 3 1 3 3 1 0 4 1 4 4 0 2 0 1 0 2 4 4 4 3 1 3 3 2 3 1 3 3 4 3 4\n",
            " 4 3 2 2 2 0 2 3 0 0 4 1 4 0 3 4 3 3 4 4 3 2 2 1 1 2 4 1 0 3 2 1 3 3 1 2 2\n",
            " 1 1 1 0 2 4 2 2 4 4 0 1 3 0 0 3 1 3 0 0 2 1 4 2 3 1 3 3 3 1 3 2 1 1 4 2 2\n",
            " 3 2 0 0 4 0 1 1 1 4 0 2 3 4 1 4 3 1 2 2 3 2 3 0 1 3 1 0 0 2 0 3 4 3 1 0 2\n",
            " 0 0 3 4 1 2 1 2 1 4 2 0 4 2 2 4 4 2 1 0 2 0 4 4 1 4 3 1 2 3 3 2 1 1 3 1 4\n",
            " 0 0 0 4 2 2 0 2 3 3 4 0 4 4 2 1 1 1 0 0 0 2 3 0 2 4 4 0 0 1 0 2 1 4 0]\n",
            "---------------------------\n"
          ]
        }
      ]
    },
    {
      "cell_type": "code",
      "source": [
        "import numpy as np\n",
        "len(np.bincount(y).tolist())"
      ],
      "metadata": {
        "colab": {
          "base_uri": "https://localhost:8080/"
        },
        "id": "-iQftKDg-cd9",
        "outputId": "e47cf73f-4947-421d-b288-4ef1a2d92d97"
      },
      "execution_count": 4,
      "outputs": [
        {
          "output_type": "execute_result",
          "data": {
            "text/plain": [
              "5"
            ]
          },
          "metadata": {},
          "execution_count": 4
        }
      ]
    },
    {
      "cell_type": "code",
      "source": [
        "\n",
        "\n",
        "#X3=np.array((df[df.c==3]))\n",
        "#X2=np.array((df[df.c==2]))\n",
        "#X1=np.array((df[df.c==1]))\n",
        "#X0=np.array((df[df.c==0]))\n",
        "#X0=(df[df.c==0][:5])\n"
      ],
      "metadata": {
        "id": "px8VkDQb5x2X"
      },
      "execution_count": null,
      "outputs": []
    },
    {
      "cell_type": "code",
      "source": [
        "import numpy as np\n",
        "import pandas as pd\n",
        "df = pd.DataFrame(X, columns = ['xx','yy'])\n",
        "df['c'] = y.tolist()\n",
        "\n",
        "fig, ax = plt.subplots()\n",
        "#sizes = np.random.uniform(-10, 16, 2)\n",
        "\n",
        "plt.xlim(-24, 16)\n",
        "plt.ylim(-26, 15)\n",
        "c1=['b','y','r','g','c','m']\n",
        "for i in range(len(np.bincount(y).tolist())):\n",
        "  XXi=np.array((df[df.c==i]))\n",
        "  plt.scatter((XXi[:,0]),(XXi[:,1]),c=c1[i],s=15)\n",
        "  plt.scatter(np.mean(XXi[:,0]),np.mean(XXi[:,1]),c='m',s=50)\n",
        "ax.set_xlabel(\"aaa\")\n",
        "ax.set_ylabel(\"bbb\")\n",
        "plt.show()\n",
        "\n",
        "XX=[]\n",
        "for i in range(len(np.bincount(y).tolist())):\n",
        "      XX.append([])\n",
        "for i in range(len(np.bincount(y).tolist())):\n",
        "    XXi=np.array((df[df.c==i]))\n",
        "    XX[i]=[np.mean(XXi[:,0]),np.mean(XXi[:,1])]\n",
        "print(XX)"
      ],
      "metadata": {
        "colab": {
          "base_uri": "https://localhost:8080/",
          "height": 472
        },
        "id": "sUav1fs-NJhJ",
        "outputId": "7f375798-30b1-4a1b-ac8d-39c60a1224ad"
      },
      "execution_count": 5,
      "outputs": [
        {
          "output_type": "display_data",
          "data": {
            "text/plain": [
              "<Figure size 640x480 with 1 Axes>"
            ],
            "image/png": "[encoded data removed]"
          },
          "metadata": {}
        },
        {
          "output_type": "stream",
          "name": "stdout",
          "text": [
            "[[-10.04122464201795, -0.27023458585040133], [-1.6302525532901049, -0.4158335529680919], [8.904687960101713, 6.567316907959832], [-6.281070005952791, -9.66721438996875], [-0.8017927707920891, 4.816414288518007]]\n"
          ]
        }
      ]
    },
    {
      "cell_type": "code",
      "source": [
        "np.bincount(y)"
      ],
      "metadata": {
        "colab": {
          "base_uri": "https://localhost:8080/"
        },
        "id": "V7FH9ajEcVer",
        "outputId": "f7f5f692-fb8a-49a3-f64d-ee987f9ac1d4"
      },
      "execution_count": 6,
      "outputs": [
        {
          "output_type": "execute_result",
          "data": {
            "text/plain": [
              "array([44, 44, 44, 44, 44])"
            ]
          },
          "metadata": {},
          "execution_count": 6
        }
      ]
    },
    {
      "cell_type": "code",
      "source": [
        "import matplotlib.pyplot as plt\n",
        "import numpy as np\n",
        "import pandas as pd\n",
        "\n",
        "from sklearn import datasets, linear_model\n",
        "from sklearn.metrics import mean_squared_error, r2_score\n",
        "diabetes_X1, diabetes_y = X[:,0],X[:,1]"
      ],
      "metadata": {
        "id": "wlQgLQKFMoNX"
      },
      "execution_count": 13,
      "outputs": []
    },
    {
      "cell_type": "code",
      "source": [
        "diabetes_X=diabetes_X1.reshape(-1,1)\n",
        "\n",
        "indices = np.random.permutation(len(diabetes_X))\n",
        "n_test_samples = 20\n",
        "diabetes_X_train = diabetes_X[indices[:-n_test_samples]]\n",
        "diabetes_y_train = diabetes_y[indices[:-n_test_samples]]\n",
        "diabetes_X_test = diabetes_X[indices[-n_test_samples:]]\n",
        "diabetes_y_test = diabetes_y[indices[-n_test_samples:]]\n",
        "print(diabetes_X_train[:4], diabetes_y_train[:4])\n",
        "print(diabetes_X_test[:4], diabetes_y_test[:4])"
      ],
      "metadata": {
        "colab": {
          "base_uri": "https://localhost:8080/"
        },
        "id": "r_AIOiiZNGR6",
        "outputId": "bf7369a9-6ea6-4df6-ab98-e9ea3baf77a3"
      },
      "execution_count": 14,
      "outputs": [
        {
          "output_type": "stream",
          "name": "stdout",
          "text": [
            "[[ -5.44948649]\n",
            " [ -1.48072519]\n",
            " [ -8.01489696]\n",
            " [-10.00039755]] [ -9.50025531   5.25621146 -10.2585816    2.18894021]\n",
            "[[  0.69610641]\n",
            " [ -2.92142663]\n",
            " [ -3.80921536]\n",
            " [-10.2517935 ]] [-0.27362606 -0.17347061  5.7992614   2.22883581]\n"
          ]
        }
      ]
    },
    {
      "cell_type": "code",
      "source": [
        "# Create linear regression object\n",
        "regr = linear_model.LinearRegression()\n",
        "\n",
        "# Train the model using the training sets\n",
        "regr.fit(diabetes_X_train, diabetes_y_train)\n",
        "\n",
        "# Make predictions using the testing set\n",
        "diabetes_y_pred = regr.predict(diabetes_X_test)\n",
        "\n",
        "# The coefficients\n",
        "print(\"Coefficients: \\n\", regr.coef_,regr.intercept_)\n",
        "# The mean squared error\n",
        "print(\"Mean squared error: %.2f\" % mean_squared_error(diabetes_y_test, diabetes_y_pred))\n",
        "# The coefficient of determination: 1 is perfect prediction\n",
        "print(\"Coefficient of determination: %.2f\" % r2_score(diabetes_y_test, diabetes_y_pred))"
      ],
      "metadata": {
        "colab": {
          "base_uri": "https://localhost:8080/"
        },
        "id": "2Afv5z3KQ8hp",
        "outputId": "4e3b5a2a-081d-44ea-b910-fb454925a34a"
      },
      "execution_count": 11,
      "outputs": [
        {
          "output_type": "stream",
          "name": "stdout",
          "text": [
            "Coefficients: \n",
            " [0.56742844] 1.3429179971249663\n",
            "Mean squared error: 20.74\n",
            "Coefficient of determination: 0.33\n"
          ]
        }
      ]
    },
    {
      "cell_type": "code",
      "source": [
        "import numpy as np\n",
        "import pandas as pd\n",
        "df = pd.DataFrame(X, columns = ['xx','yy'])\n",
        "df['c'] = y.tolist()\n",
        "\n",
        "fig, ax = plt.subplots()\n",
        "#sizes = np.random.uniform(-10, 16, 2)\n",
        "\n",
        "plt.xlim(-24, 16)\n",
        "plt.ylim(-26, 15)\n",
        "c1=['b','y','r','g','c','m']\n",
        "for i in range(len(np.bincount(y).tolist())):\n",
        "  XXi=np.array((df[df.c==i]))\n",
        "  plt.scatter((XXi[:,0]),(XXi[:,1]),c=c1[i],s=15)\n",
        "  plt.scatter(np.mean(XXi[:,0]),np.mean(XXi[:,1]),c='m',s=50)\n",
        "#plt.plot([-20.0,  15.0], [-20*regr.coef_+1.3356453516,  15*regr.coef_+1.3356453516], 'go-', label='line 1', linewidth=2)\n",
        "\n",
        "plt.plot([-20.0,  15.0], [-20*regr.coef_+regr.intercept_,15*regr.coef_+regr.intercept_], color='red')\n",
        "\n",
        "ax.set_xlabel(\"aaa\")\n",
        "ax.set_ylabel(\"bbb\")\n",
        "plt.show()\n",
        "\n",
        "XX=[]\n",
        "for i in range(len(np.bincount(y).tolist())):\n",
        "      XX.append([])\n",
        "for i in range(len(np.bincount(y).tolist())):\n",
        "    XXi=np.array((df[df.c==i]))\n",
        "    XX[i]=[np.mean(XXi[:,0]),np.mean(XXi[:,1])]\n",
        "print(XX)"
      ],
      "metadata": {
        "colab": {
          "base_uri": "https://localhost:8080/",
          "height": 472
        },
        "id": "lfzD-JwU8GO4",
        "outputId": "2a5f84d7-4b98-4181-e1f3-99bd0af3a060"
      },
      "execution_count": 15,
      "outputs": [
        {
          "output_type": "display_data",
          "data": {
            "text/plain": [
              "<Figure size 640x480 with 1 Axes>"
            ],
            "image/png": "[encoded data removed]"
          },
          "metadata": {}
        },
        {
          "output_type": "stream",
          "name": "stdout",
          "text": [
            "[[-10.04122464201795, -0.27023458585040133], [-1.6302525532901049, -0.4158335529680919], [8.904687960101713, 6.567316907959832], [-6.281070005952791, -9.66721438996875], [-0.8017927707920891, 4.816414288518007]]\n"
          ]
        }
      ]
    }
  ]
}