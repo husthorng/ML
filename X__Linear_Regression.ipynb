{
  "nbformat": 4,
  "nbformat_minor": 0,
  "metadata": {
    "colab": {
      "provenance": [],
      "authorship_tag": "ABX9TyNDM4eiND3z7kRTZiyNk47x",
      "include_colab_link": true
    },
    "kernelspec": {
      "name": "python3",
      "display_name": "Python 3"
    },
    "language_info": {
      "name": "python"
    }
  },
  "cells": [
    {
      "cell_type": "markdown",
      "metadata": {
        "id": "view-in-github",
        "colab_type": "text"
      },
      "source": [
        "<a href=\"https://colab.research.google.com/github/husthorng/ML/blob/main/X__Linear_Regression.ipynb\" target=\"_parent\"><img src=\"https://colab.research.google.com/assets/colab-badge.svg\" alt=\"Open In Colab\"/></a>"
      ]
    },
    {
      "cell_type": "code",
      "source": [
        "import pandas as pd\n",
        "df= pd.read_csv('https://raw.githubusercontent.com/husthorng/ML/main/X.csv', sep=',', header=None)\n",
        "X=df.values[1:,1:]\n",
        "#print(X)"
      ],
      "metadata": {
        "id": "WEpmF3pzYcWg"
      },
      "execution_count": 41,
      "outputs": []
    },
    {
      "cell_type": "code",
      "source": [
        "from sklearn import cluster, datasets, metrics\n",
        "import matplotlib.pyplot as plt\n",
        "# 迴圈\n",
        "silhouette_avgs = []\n",
        "ks = range(2, 11)\n",
        "for k in ks:\n",
        "    kmeans_fit = cluster.KMeans(n_clusters = k).fit(X)\n",
        "    cluster_labels = kmeans_fit.labels_\n",
        "    silhouette_avg = metrics.silhouette_score(X, cluster_labels)\n",
        "    silhouette_avgs.append(silhouette_avg)\n",
        "\n",
        "# 作圖並印出 k = 2 到 10 的績效\n",
        "plt.bar(ks, silhouette_avgs)\n",
        "plt.show()\n",
        "print(silhouette_avgs)\n"
      ],
      "metadata": {
        "colab": {
          "base_uri": "https://localhost:8080/",
          "height": 760
        },
        "id": "bj_KDxk3XU5k",
        "outputId": "90577902-5ac3-4bf8-fdd7-c397330bfcd2"
      },
      "execution_count": 42,
      "outputs": [
        {
          "output_type": "stream",
          "name": "stderr",
          "text": [
            "/usr/local/lib/python3.10/dist-packages/sklearn/cluster/_kmeans.py:870: FutureWarning: The default value of `n_init` will change from 10 to 'auto' in 1.4. Set the value of `n_init` explicitly to suppress the warning\n",
            "  warnings.warn(\n",
            "/usr/local/lib/python3.10/dist-packages/sklearn/cluster/_kmeans.py:870: FutureWarning: The default value of `n_init` will change from 10 to 'auto' in 1.4. Set the value of `n_init` explicitly to suppress the warning\n",
            "  warnings.warn(\n",
            "/usr/local/lib/python3.10/dist-packages/sklearn/cluster/_kmeans.py:870: FutureWarning: The default value of `n_init` will change from 10 to 'auto' in 1.4. Set the value of `n_init` explicitly to suppress the warning\n",
            "  warnings.warn(\n",
            "/usr/local/lib/python3.10/dist-packages/sklearn/cluster/_kmeans.py:870: FutureWarning: The default value of `n_init` will change from 10 to 'auto' in 1.4. Set the value of `n_init` explicitly to suppress the warning\n",
            "  warnings.warn(\n",
            "/usr/local/lib/python3.10/dist-packages/sklearn/cluster/_kmeans.py:870: FutureWarning: The default value of `n_init` will change from 10 to 'auto' in 1.4. Set the value of `n_init` explicitly to suppress the warning\n",
            "  warnings.warn(\n",
            "/usr/local/lib/python3.10/dist-packages/sklearn/cluster/_kmeans.py:870: FutureWarning: The default value of `n_init` will change from 10 to 'auto' in 1.4. Set the value of `n_init` explicitly to suppress the warning\n",
            "  warnings.warn(\n",
            "/usr/local/lib/python3.10/dist-packages/sklearn/cluster/_kmeans.py:870: FutureWarning: The default value of `n_init` will change from 10 to 'auto' in 1.4. Set the value of `n_init` explicitly to suppress the warning\n",
            "  warnings.warn(\n",
            "/usr/local/lib/python3.10/dist-packages/sklearn/cluster/_kmeans.py:870: FutureWarning: The default value of `n_init` will change from 10 to 'auto' in 1.4. Set the value of `n_init` explicitly to suppress the warning\n",
            "  warnings.warn(\n",
            "/usr/local/lib/python3.10/dist-packages/sklearn/cluster/_kmeans.py:870: FutureWarning: The default value of `n_init` will change from 10 to 'auto' in 1.4. Set the value of `n_init` explicitly to suppress the warning\n",
            "  warnings.warn(\n"
          ]
        },
        {
          "output_type": "display_data",
          "data": {
            "text/plain": [
              "<Figure size 640x480 with 1 Axes>"
            ],
            "image/png": "[encoded data removed]"
          },
          "metadata": {}
        },
        {
          "output_type": "stream",
          "name": "stdout",
          "text": [
            "[0.48668697018413964, 0.5366565664808917, 0.6455641861487446, 0.6328858682437848, 0.5673471952542672, 0.5083154674842022, 0.44288669768857003, 0.3728829212347586, 0.33675385858678986]\n"
          ]
        }
      ]
    },
    {
      "cell_type": "code",
      "source": [
        "kmeans_fit = cluster.KMeans(n_clusters = 5).fit(X)\n",
        "\n",
        "# 印出分群結果\n",
        "y = kmeans_fit.labels_\n",
        "print(\"分群結果：\")\n",
        "print(y)\n",
        "print(\"---------------------------\")"
      ],
      "metadata": {
        "colab": {
          "base_uri": "https://localhost:8080/"
        },
        "id": "Bjxahu1yXjSp",
        "outputId": "a38e25cb-4f6c-4f1d-ae87-b74185d8d099"
      },
      "execution_count": 43,
      "outputs": [
        {
          "output_type": "stream",
          "name": "stderr",
          "text": [
            "/usr/local/lib/python3.10/dist-packages/sklearn/cluster/_kmeans.py:870: FutureWarning: The default value of `n_init` will change from 10 to 'auto' in 1.4. Set the value of `n_init` explicitly to suppress the warning\n",
            "  warnings.warn(\n"
          ]
        },
        {
          "output_type": "stream",
          "name": "stdout",
          "text": [
            "分群結果：\n",
            "[3 4 3 4 0 4 0 2 0 0 2 3 4 2 4 4 3 1 3 2 3 1 4 4 4 0 2 0 0 1 0 2 0 0 4 0 4\n",
            " 4 0 1 1 1 3 1 0 3 3 4 2 4 3 0 4 0 0 4 4 0 1 1 2 2 1 4 2 3 0 1 2 0 0 2 1 1\n",
            " 2 2 2 3 1 4 1 1 4 4 3 2 0 3 3 0 2 0 3 3 1 2 4 1 0 2 0 0 0 2 0 1 2 2 4 1 1\n",
            " 0 1 3 3 4 3 2 2 2 4 3 1 0 4 2 4 0 2 1 1 0 1 0 3 2 0 2 3 3 1 3 0 4 0 2 3 1\n",
            " 3 3 0 4 2 1 2 1 2 4 1 3 4 1 1 4 4 1 2 3 1 3 4 4 2 4 0 2 1 0 0 1 2 2 0 2 4\n",
            " 3 3 3 4 1 1 3 1 0 0 4 3 4 4 1 2 2 2 3 3 3 1 0 3 1 4 4 3 3 2 3 1 2 4 3]\n",
            "---------------------------\n"
          ]
        }
      ]
    },
    {
      "cell_type": "code",
      "source": [
        "len(np.bincount(y).tolist())"
      ],
      "metadata": {
        "colab": {
          "base_uri": "https://localhost:8080/"
        },
        "id": "-iQftKDg-cd9",
        "outputId": "d03d6a18-1184-4052-fc18-00fef83b968b"
      },
      "execution_count": 35,
      "outputs": [
        {
          "output_type": "execute_result",
          "data": {
            "text/plain": [
              "4"
            ]
          },
          "metadata": {},
          "execution_count": 35
        }
      ]
    },
    {
      "cell_type": "code",
      "source": [
        "\n",
        "\n",
        "#X3=np.array((df[df.c==3]))\n",
        "#X2=np.array((df[df.c==2]))\n",
        "#X1=np.array((df[df.c==1]))\n",
        "#X0=np.array((df[df.c==0]))\n",
        "#X0=(df[df.c==0][:5])\n"
      ],
      "metadata": {
        "id": "px8VkDQb5x2X"
      },
      "execution_count": 6,
      "outputs": []
    },
    {
      "cell_type": "code",
      "source": [
        "import numpy as np\n",
        "import pandas as pd\n",
        "df = pd.DataFrame(X, columns = ['xx','yy'])\n",
        "df['c'] = y.tolist()\n",
        "\n",
        "fig, ax = plt.subplots()\n",
        "#sizes = np.random.uniform(-10, 16, 2)\n",
        "\n",
        "plt.xlim(-24, 16)\n",
        "plt.ylim(-26, 15)\n",
        "c1=['b','y','r','g','c','m']\n",
        "for i in range(len(np.bincount(y).tolist())):\n",
        "  XXi=np.array((df[df.c==i]))\n",
        "  plt.scatter((XXi[:,0]),(XXi[:,1]),c=c1[i],s=15)\n",
        "  plt.scatter(np.mean(XXi[:,0]),np.mean(XXi[:,1]),c='m',s=50)\n",
        "ax.set_xlabel(\"aaa\")\n",
        "ax.set_ylabel(\"bbb\")\n",
        "plt.show()\n",
        "\n",
        "XX=[]\n",
        "for i in range(len(np.bincount(y).tolist())):\n",
        "      XX.append([])\n",
        "for i in range(len(np.bincount(y).tolist())):\n",
        "    XXi=np.array((df[df.c==i]))\n",
        "    XX[i]=[np.mean(XXi[:,0]),np.mean(XXi[:,1])]\n",
        "print(XX)"
      ],
      "metadata": {
        "colab": {
          "base_uri": "https://localhost:8080/",
          "height": 472
        },
        "id": "sUav1fs-NJhJ",
        "outputId": "4e5dc4df-4f89-4131-d620-7ab3a78af66f"
      },
      "execution_count": 44,
      "outputs": [
        {
          "output_type": "display_data",
          "data": {
            "text/plain": [
              "<Figure size 640x480 with 1 Axes>"
            ],
            "image/png": "[encoded data removed]"
          },
          "metadata": {}
        },
        {
          "output_type": "stream",
          "name": "stdout",
          "text": [
            "[[-6.281070005952791, -9.66721438996875], [8.904687960101713, 6.567316907959832], [-1.6302525532901049, -0.4158335529680919], [-10.04122464201795, -0.27023458585040133], [-0.8017927707920891, 4.816414288518007]]\n"
          ]
        }
      ]
    },
    {
      "cell_type": "code",
      "source": [
        "np.bincount(y)"
      ],
      "metadata": {
        "colab": {
          "base_uri": "https://localhost:8080/"
        },
        "id": "V7FH9ajEcVer",
        "outputId": "11c6b3ba-6f0e-44ba-f5dc-d59dc53440b7"
      },
      "execution_count": 45,
      "outputs": [
        {
          "output_type": "execute_result",
          "data": {
            "text/plain": [
              "array([44, 44, 44, 44, 44])"
            ]
          },
          "metadata": {},
          "execution_count": 45
        }
      ]
    },
    {
      "cell_type": "code",
      "source": [
        "import matplotlib.pyplot as plt\n",
        "import numpy as np\n",
        "import pandas as pd\n",
        "\n",
        "from sklearn import datasets, linear_model\n",
        "from sklearn.metrics import mean_squared_error, r2_score\n",
        "diabetes_X1, diabetes_y = X[:,0],X[:,1]"
      ],
      "metadata": {
        "id": "wlQgLQKFMoNX"
      },
      "execution_count": 46,
      "outputs": []
    },
    {
      "cell_type": "code",
      "source": [
        "#diabetes_X = diabetes_X1[:, np.newaxis, 2]\n",
        "indices = np.random.permutation(len(diabetes_X))\n",
        "n_test_samples = 20\n",
        "diabetes_X_train = diabetes_X[indices[:-n_test_samples]]\n",
        "diabetes_y_train = diabetes_y[indices[:-n_test_samples]]\n",
        "diabetes_X_test = diabetes_X[indices[-n_test_samples:]]\n",
        "diabetes_y_test = diabetes_y[indices[-n_test_samples:]]\n",
        "print(diabetes_X_train[:4], diabetes_y_train[:4])\n",
        "print(diabetes_X_test[:4], diabetes_y_test[:4])"
      ],
      "metadata": {
        "colab": {
          "base_uri": "https://localhost:8080/"
        },
        "id": "r_AIOiiZNGR6",
        "outputId": "31d1f972-ef2b-493d-9181-d549da27046b"
      },
      "execution_count": 47,
      "outputs": [
        {
          "output_type": "stream",
          "name": "stdout",
          "text": [
            "[[-4.37653911]\n",
            " [ 1.58427967]\n",
            " [-9.36706457]\n",
            " [ 2.567155  ]] [-8.08658195  6.91348956 -1.43312656  4.44307823]\n",
            "[[10.68356932]\n",
            " [-1.3032633 ]\n",
            " [-7.46494612]\n",
            " [-8.60257398]] [  8.55478617   3.76521543 -12.47292948  -0.70042376]\n"
          ]
        }
      ]
    },
    {
      "cell_type": "code",
      "source": [
        "# Create linear regression object\n",
        "regr = linear_model.LinearRegression()\n",
        "\n",
        "# Train the model using the training sets\n",
        "regr.fit(diabetes_X_train, diabetes_y_train)\n",
        "\n",
        "# Make predictions using the testing set\n",
        "diabetes_y_pred = regr.predict(diabetes_X_test)\n",
        "\n",
        "# The coefficients\n",
        "print(\"Coefficients: \\n\", regr.coef_,regr.intercept_)\n",
        "# The mean squared error\n",
        "print(\"Mean squared error: %.2f\" % mean_squared_error(diabetes_y_test, diabetes_y_pred))\n",
        "# The coefficient of determination: 1 is perfect prediction\n",
        "print(\"Coefficient of determination: %.2f\" % r2_score(diabetes_y_test, diabetes_y_pred))"
      ],
      "metadata": {
        "colab": {
          "base_uri": "https://localhost:8080/"
        },
        "id": "2Afv5z3KQ8hp",
        "outputId": "40286748-2178-4916-aecd-0ee3df9eadeb"
      },
      "execution_count": 48,
      "outputs": [
        {
          "output_type": "stream",
          "name": "stdout",
          "text": [
            "Coefficients: \n",
            " [0.54995756] 1.386986382623792\n",
            "Mean squared error: 15.47\n",
            "Coefficient of determination: 0.58\n"
          ]
        }
      ]
    },
    {
      "cell_type": "code",
      "source": [
        "import numpy as np\n",
        "import pandas as pd\n",
        "df = pd.DataFrame(X, columns = ['xx','yy'])\n",
        "df['c'] = y.tolist()\n",
        "\n",
        "fig, ax = plt.subplots()\n",
        "#sizes = np.random.uniform(-10, 16, 2)\n",
        "\n",
        "plt.xlim(-24, 16)\n",
        "plt.ylim(-26, 15)\n",
        "c1=['b','y','r','g','c','m']\n",
        "for i in range(len(np.bincount(y).tolist())):\n",
        "  XXi=np.array((df[df.c==i]))\n",
        "  plt.scatter((XXi[:,0]),(XXi[:,1]),c=c1[i],s=15)\n",
        "  plt.scatter(np.mean(XXi[:,0]),np.mean(XXi[:,1]),c='m',s=50)\n",
        "#plt.plot([-20.0,  15.0], [-20*regr.coef_+1.3356453516,  15*regr.coef_+1.3356453516], 'go-', label='line 1', linewidth=2)\n",
        "\n",
        "plt.plot([-20.0,  15.0], [-20*regr.coef_+regr.intercept_,15*regr.coef_+regr.intercept_], color='red')\n",
        "\n",
        "ax.set_xlabel(\"aaa\")\n",
        "ax.set_ylabel(\"bbb\")\n",
        "plt.show()\n",
        "\n",
        "XX=[]\n",
        "for i in range(len(np.bincount(y).tolist())):\n",
        "      XX.append([])\n",
        "for i in range(len(np.bincount(y).tolist())):\n",
        "    XXi=np.array((df[df.c==i]))\n",
        "    XX[i]=[np.mean(XXi[:,0]),np.mean(XXi[:,1])]\n",
        "print(XX)"
      ],
      "metadata": {
        "colab": {
          "base_uri": "https://localhost:8080/",
          "height": 472
        },
        "id": "lfzD-JwU8GO4",
        "outputId": "4d8f1d92-5fda-44fe-807a-e82b0be7122a"
      },
      "execution_count": 49,
      "outputs": [
        {
          "output_type": "display_data",
          "data": {
            "text/plain": [
              "<Figure size 640x480 with 1 Axes>"
            ],
            "image/png": "[encoded data removed]"
          },
          "metadata": {}
        },
        {
          "output_type": "stream",
          "name": "stdout",
          "text": [
            "[[-6.281070005952791, -9.66721438996875], [8.904687960101713, 6.567316907959832], [-1.6302525532901049, -0.4158335529680919], [-10.04122464201795, -0.27023458585040133], [-0.8017927707920891, 4.816414288518007]]\n"
          ]
        }
      ]
    }
  ]
}