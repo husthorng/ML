{
  "nbformat": 4,
  "nbformat_minor": 0,
  "metadata": {
    "colab": {
      "provenance": [],
      "authorship_tag": "ABX9TyNK2E9OeUuofThNf+3jXSa/",
      "include_colab_link": true
    },
    "kernelspec": {
      "name": "python3",
      "display_name": "Python 3"
    },
    "language_info": {
      "name": "python"
    }
  },
  "cells": [
    {
      "cell_type": "markdown",
      "metadata": {
        "id": "view-in-github",
        "colab_type": "text"
      },
      "source": [
        "<a href=\"https://colab.research.google.com/github/husthorng/ML/blob/main/lsm1.ipynb\" target=\"_parent\"><img src=\"https://colab.research.google.com/assets/colab-badge.svg\" alt=\"Open In Colab\"/></a>"
      ]
    },
    {
      "cell_type": "code",
      "execution_count": 31,
      "metadata": {
        "id": "OcgHPoflDWOi"
      },
      "outputs": [],
      "source": [
        "import numpy as np\n",
        "arrab = np.array([[10.0,55.0],[55.0,385.0]])\n",
        "arrc=np.array([3.12,19.])"
      ]
    },
    {
      "cell_type": "markdown",
      "source": [
        "https://www.geeksforgeeks.org/how-to-inverse-a-matrix-using-numpy/"
      ],
      "metadata": {
        "id": "C-hoHbcuFVLy"
      }
    },
    {
      "cell_type": "code",
      "source": [
        "inv_arrab=np.linalg.inv(arrab)"
      ],
      "metadata": {
        "id": "QTNo2-4AE7Ob"
      },
      "execution_count": 32,
      "outputs": []
    },
    {
      "cell_type": "markdown",
      "source": [
        "https://numpy.org/doc/stable/reference/generated/numpy.dot.html"
      ],
      "metadata": {
        "id": "sDWpLYR4Fq0p"
      }
    },
    {
      "cell_type": "code",
      "source": [
        "np.dot(inv_arrab, arrc)"
      ],
      "metadata": {
        "colab": {
          "base_uri": "https://localhost:8080/"
        },
        "id": "YbK-5xJWFtpI",
        "outputId": "fdede7c8-820f-4e54-baec-bf4939b1d3b0"
      },
      "execution_count": 33,
      "outputs": [
        {
          "output_type": "execute_result",
          "data": {
            "text/plain": [
              "array([0.18933333, 0.02230303])"
            ]
          },
          "metadata": {},
          "execution_count": 33
        }
      ]
    },
    {
      "cell_type": "markdown",
      "source": [
        "https://www.statology.org/r-squared-in-python/"
      ],
      "metadata": {
        "id": "AXj2t314Vnxl"
      }
    },
    {
      "cell_type": "code",
      "source": [
        "import pandas as pd\n",
        "df = pd.DataFrame({'Cyear': [1991,1992,1993,1994,1995,1996,1997,1998,1999,2000],\n",
        "          'Cti': [1,2,3,4,5,6,7,8,9,10],\n",
        "          'Tyi': [0.29,0.14,0.19,0.26,0.38,0.22,0.43,0.59,0.33,0.29]})\n"
      ],
      "metadata": {
        "id": "ziejRrEmTfAU"
      },
      "execution_count": 71,
      "outputs": []
    },
    {
      "cell_type": "code",
      "source": [
        "XX=np.array(df[\"Cti\"]).reshape(-1, 1)\n",
        "Y=df.Tyi\n"
      ],
      "metadata": {
        "id": "JTPwIev2f04d"
      },
      "execution_count": 72,
      "outputs": []
    },
    {
      "cell_type": "code",
      "source": [
        "from sklearn.preprocessing import PolynomialFeatures\n",
        "poly = PolynomialFeatures(degree=3, include_bias=True)\n",
        "X = poly.fit_transform(XX)"
      ],
      "metadata": {
        "id": "8Gc9wJlDnMiC"
      },
      "execution_count": 73,
      "outputs": []
    },
    {
      "cell_type": "code",
      "source": [
        "from sklearn.linear_model import LinearRegression\n",
        "\n",
        "#initiate linear regression model\n",
        "model = LinearRegression()\n",
        "#fit regression model\n",
        "ff=model.fit(X, Y)\n",
        "r_squared = model.score(X, Y)"
      ],
      "metadata": {
        "id": "BNI73_dlgqCu"
      },
      "execution_count": 74,
      "outputs": []
    },
    {
      "cell_type": "code",
      "source": [
        "print(\"Coefficients: \\n\", ff.coef_,ff.intercept_)\n",
        "print(\"R2: \\n\",r_squared)"
      ],
      "metadata": {
        "colab": {
          "base_uri": "https://localhost:8080/"
        },
        "id": "hIr-Vpcij36_",
        "outputId": "6b5c6d6b-92ee-407e-b814-83187141e43b"
      },
      "execution_count": 75,
      "outputs": [
        {
          "output_type": "stream",
          "name": "stdout",
          "text": [
            "Coefficients: \n",
            " [ 0.         -0.23891026  0.06099068 -0.00388695] 0.45366666666665084\n",
            "R2: \n",
            " 0.6082953225529814\n"
          ]
        }
      ]
    },
    {
      "cell_type": "code",
      "source": [
        "y_predicted = ff.predict(X)\n",
        "y_predicted"
      ],
      "metadata": {
        "id": "Sj6R0Qt2hjqp",
        "colab": {
          "base_uri": "https://localhost:8080/"
        },
        "outputId": "8cdfbf3a-8d70-4263-c2e2-6906632acec3"
      },
      "execution_count": 76,
      "outputs": [
        {
          "output_type": "execute_result",
          "data": {
            "text/plain": [
              "array([0.27186014, 0.18871329, 0.18090443, 0.22511189, 0.29801399,\n",
              "       0.37628904, 0.43661538, 0.45567133, 0.4101352 , 0.27668531])"
            ]
          },
          "metadata": {},
          "execution_count": 76
        }
      ]
    },
    {
      "cell_type": "code",
      "source": [
        "import matplotlib.pyplot as plt\n",
        "\n",
        "plt.figure(figsize=(10, 6))\n",
        "#plt.title(\"Your first polynomial regression – congrats! :)\", size=16)\n",
        "plt.scatter(XX, Y)\n",
        "plt.plot(XX, y_predicted, c=\"red\")\n",
        "plt.show()"
      ],
      "metadata": {
        "colab": {
          "base_uri": "https://localhost:8080/",
          "height": 522
        },
        "id": "vwZfVTVDqTXA",
        "outputId": "3b0160e3-a76e-4ab3-ed87-9f6a1a6b13bf"
      },
      "execution_count": 77,
      "outputs": [
        {
          "output_type": "display_data",
          "data": {
            "text/plain": [
              "<Figure size 1000x600 with 1 Axes>"
            ],
            "image/png": "[encoded data removed]"
          },
          "metadata": {}
        }
      ]
    }
  ]
}